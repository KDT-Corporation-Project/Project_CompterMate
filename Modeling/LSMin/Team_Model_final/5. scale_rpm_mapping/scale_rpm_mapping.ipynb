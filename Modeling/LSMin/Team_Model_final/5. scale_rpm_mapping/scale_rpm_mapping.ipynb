{
 "cells": [
  {
   "cell_type": "code",
   "execution_count": 5,
   "metadata": {},
   "outputs": [],
   "source": [
    "### 모듈 및 데이터 로딩\n",
    "import pandas as pd\n",
    "import numpy as np\n",
    "from sklearn.impute import KNNImputer\n",
    "from sklearn.ensemble import RandomForestRegressor\n",
    "from sklearn.preprocessing import StandardScaler\n",
    "import joblib\n",
    "file = '../0. Data/2. output/0. Test_data.csv'\n",
    "data = pd.read_csv(file)"
   ]
  },
  {
   "cell_type": "code",
   "execution_count": 6,
   "metadata": {},
   "outputs": [],
   "source": [
    "# 모델 및 스케일러 로드\n",
    "lr_model = joblib.load('../2. Modeling/model/lr_model.pkl')\n",
    "scaler_data = joblib.load('../2. Modeling/model/lr_scaler.pkl')\n",
    "scaler = scaler_data['scaler']\n",
    "feature_names = scaler_data['feature_names']\n",
    "target_scaler = scaler_data['target_scaler']"
   ]
  },
  {
   "cell_type": "code",
   "execution_count": 7,
   "metadata": {},
   "outputs": [
    {
     "name": "stderr",
     "output_type": "stream",
     "text": [
      "c:\\ProgramData\\anaconda3\\envs\\Torch_NLP38\\lib\\site-packages\\sklearn\\base.py:464: UserWarning: X does not have valid feature names, but StandardScaler was fitted with feature names\n",
      "  warnings.warn(\n"
     ]
    }
   ],
   "source": [
    "# 첫 번째 행에 대한 예측\n",
    "def predict_first_row(data, model, scaler, feature_names):\n",
    "    first_row = data.iloc[0][feature_names]\n",
    "    features_scaled = scaler.transform(first_row.values.reshape(1, -1))\n",
    "    predicted_scale_pv_scaled = model.predict(features_scaled)[0]\n",
    "    predicted_scale_pv = target_scaler.inverse_transform([[predicted_scale_pv_scaled]])[0][0]\n",
    "    return round(predicted_scale_pv, 2)  # 소수점 아래 둘째 자리로 반올림\n",
    "\n",
    "\n",
    "# 최적의 k_rpm_pv 찾기\n",
    "def find_optimal_k_rpm_pv(n_temp, s_temp, c_temp, current_k_rpm_pv, model, scaler, feature_names, target_scaler):\n",
    "    best_k_rpm_pv = current_k_rpm_pv\n",
    "    best_scale_pv_diff = float('inf')\n",
    "    for k_rpm_adjustment in [-1, 0, 1]:  # -1, 0, 1\n",
    "        k_rpm_pv = current_k_rpm_pv + k_rpm_adjustment\n",
    "        features = pd.DataFrame([[n_temp, s_temp, c_temp, k_rpm_pv]], columns=feature_names)\n",
    "        features_scaled = scaler.transform(features)\n",
    "        predicted_scale_pv_scaled = model.predict(features_scaled)[0]\n",
    "        predicted_scale_pv = target_scaler.inverse_transform([[predicted_scale_pv_scaled]])[0][0]\n",
    "        scale_pv_diff = abs(predicted_scale_pv - 3)\n",
    "        if scale_pv_diff < best_scale_pv_diff:\n",
    "            best_scale_pv_diff = scale_pv_diff\n",
    "            best_k_rpm_pv = k_rpm_pv\n",
    "    return best_k_rpm_pv\n",
    "\n",
    "\n",
    "# 전체 데이터에 대해 예측 및 최적 k_rpm_pv 찾기\n",
    "def predict_and_optimize(data, model, scaler, target_scaler, feature_names):\n",
    "    results = []\n",
    "    for i in range(len(data)):\n",
    "        row = data.iloc[i]\n",
    "        n_temp, s_temp, c_temp, k_rpm_pv = row['n_temp_pv'], row['s_temp_pv'], row['c_temp_pv'], row['k_rpm_pv']\n",
    "        if i == 0:\n",
    "            #k_rpm_pv = 187  # 첫 행의 k_rpm_pv 값을 187로 고정\n",
    "            predicted_scale_pv = predict_first_row(pd.DataFrame([row]), model, scaler, feature_names)\n",
    "        else:\n",
    "            features = pd.DataFrame([[n_temp, s_temp, c_temp, k_rpm_pv]], columns=feature_names)\n",
    "            features_scaled = scaler.transform(features)\n",
    "            predicted_scale_pv_scaled = model.predict(features_scaled)[0]\n",
    "            predicted_scale_pv = target_scaler.inverse_transform([[predicted_scale_pv_scaled]])[0][0]\n",
    "            predicted_scale_pv = round(predicted_scale_pv, 2)\n",
    "\n",
    "        results.append({\n",
    "            'n_temp_pv': n_temp,\n",
    "            's_temp_pv': s_temp,\n",
    "            'c_temp_pv': c_temp,\n",
    "            'predicted_scale_pv': predicted_scale_pv,\n",
    "            'k_rpm_pv': k_rpm_pv\n",
    "        })\n",
    "\n",
    "        if i < len(data) - 1:\n",
    "            current_k_rpm_pv = k_rpm_pv\n",
    "            optimal_k_rpm_pv = find_optimal_k_rpm_pv(n_temp, s_temp, c_temp, current_k_rpm_pv, model, scaler, feature_names, target_scaler)\n",
    "            data.at[i + 1, 'k_rpm_pv'] = optimal_k_rpm_pv\n",
    "    \n",
    "    return pd.DataFrame(results)\n",
    "\n",
    "\n",
    "# 데이터 스케일링\n",
    "X_test_final = data[feature_names]\n",
    "X_test_final_scaled = scaler.transform(X_test_final)\n",
    "\n",
    "\n",
    "# 예측 및 최적화 실행\n",
    "results = predict_and_optimize(data, lr_model, scaler, target_scaler, feature_names)\n",
    "\n",
    "\n",
    "# DF에 기존 sv값 컬럼 추가\n",
    "results[['c_temp_sv', 's_temp_sv', 'n_temp_sv', 'k_rpm_sv', 'E_scr_pv', 'E_scr_sv']] = (70, 70, 70, 180, 8, 8)\n",
    "\n",
    "\n",
    "# 새로운 컬럼 추가\n",
    "results['c_temp_pv_dif'] = results['c_temp_pv'].diff().fillna(0)\n",
    "results['s_temp_pv_dif'] = results['s_temp_pv'].diff().fillna(0)\n",
    "results['n_temp_pv_dif'] = results['n_temp_pv'].diff().fillna(0)\n",
    "results['scale_dif'] = results['predicted_scale_pv'].diff().fillna(0)\n",
    "results['rpm_dif'] = results['k_rpm_pv'].diff().fillna(0)\n",
    "results['loss'] = results['scale_dif']\n",
    "\n",
    "\n",
    "# 결과를 CSV 파일로 저장\n",
    "results.to_csv('../6. simulation_csv/simulation.csv', index=False)"
   ]
  },
  {
   "cell_type": "code",
   "execution_count": 8,
   "metadata": {},
   "outputs": [],
   "source": [
    "# 실제 scale_pv와 예측된 predicted_scale_pv를 포함하는 새로운 데이터프레임 생성\n",
    "final_results = pd.DataFrame({\n",
    "    'actual_scale_pv': data['scale_pv'],\n",
    "    'predicted_scale_pv': results['predicted_scale_pv']\n",
    "})\n",
    "\n",
    "\n",
    "# 결과를 CSV 파일로 저장\n",
    "final_results.to_csv('../6. simulation_csv/real&pred_scale.csv', index=False)"
   ]
  }
 ],
 "metadata": {
  "kernelspec": {
   "display_name": "Torch_NLP38",
   "language": "python",
   "name": "python3"
  },
  "language_info": {
   "codemirror_mode": {
    "name": "ipython",
    "version": 3
   },
   "file_extension": ".py",
   "mimetype": "text/x-python",
   "name": "python",
   "nbconvert_exporter": "python",
   "pygments_lexer": "ipython3",
   "version": "3.8.19"
  }
 },
 "nbformat": 4,
 "nbformat_minor": 2
}
