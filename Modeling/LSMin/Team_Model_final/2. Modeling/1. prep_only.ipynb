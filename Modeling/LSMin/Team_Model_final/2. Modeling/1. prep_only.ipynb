{
 "cells": [
  {
   "cell_type": "code",
   "execution_count": 1,
   "metadata": {},
   "outputs": [],
   "source": [
    "### 모듈 및 데이터 로딩\n",
    "import pandas as pd\n",
    "import numpy as np\n",
    "from sklearn.model_selection import train_test_split\n",
    "from sklearn.linear_model import LinearRegression\n",
    "from sklearn.ensemble import RandomForestRegressor\n",
    "import lightgbm as lgb\n",
    "from sklearn.metrics import mean_absolute_error, mean_absolute_percentage_error\n",
    "file = '../0. Data/2. output/1. Train_data.csv'\n",
    "data = pd.read_csv(file)"
   ]
  },
  {
   "cell_type": "code",
   "execution_count": 2,
   "metadata": {},
   "outputs": [
    {
     "name": "stdout",
     "output_type": "stream",
     "text": [
      "[LightGBM] [Info] Auto-choosing col-wise multi-threading, the overhead of testing was 0.000474 seconds.\n",
      "You can set `force_col_wise=true` to remove the overhead.\n",
      "[LightGBM] [Info] Total Bins 214\n",
      "[LightGBM] [Info] Number of data points in the train set: 26844, number of used features: 4\n",
      "[LightGBM] [Info] Start training from score 3.041687\n",
      "Linear Regression - Train MAE: 0.026006620096935367, Train MAPE: 0.8563967117358431\n",
      "Linear Regression - Valid MAE: 0.026538280288540907, Valid MAPE: 0.8754376532083852\n",
      "\n",
      "Random Forest - Train MAE: 0.009557685622079395, Train MAPE: 0.3146545374290152\n",
      "Random Forest - Valid MAE: 0.022573473714241007, Valid MAPE: 0.7439481077144354\n",
      "\n",
      "LightGBM - Train MAE: 0.023162779940527782, Train MAPE: 0.7625622551093778\n",
      "LightGBM - Valid MAE: 0.02434221997550128, Valid MAPE: 0.8020035577248755\n"
     ]
    }
   ],
   "source": [
    "### 모델링 및  Train 평가\n",
    "\n",
    "\n",
    "# 중복값 제거\n",
    "data.drop_duplicates(inplace=True)\n",
    "\n",
    "\n",
    "# 피처와 타겟 분리\n",
    "X = data.drop(columns=['scale_pv'])\n",
    "y = data['scale_pv']\n",
    "\n",
    "\n",
    "# 학습 데이터와 테스트 데이터 분리\n",
    "X_train, X_valid, y_train, y_valid = train_test_split(X, y, test_size=0.2, random_state=42)\n",
    "\n",
    "\n",
    "# 모델 학습 및 평가 함수\n",
    "def train_and_evaluate_model(model, X_train, X_valid, y_train, y_valid):\n",
    "    model.fit(X_train, y_train)\n",
    "    y_train_pred = model.predict(X_train)\n",
    "    y_valid_pred = model.predict(X_valid)\n",
    "\n",
    "    train_mae = mean_absolute_error(y_train, y_train_pred)\n",
    "    valid_mae = mean_absolute_error(y_valid, y_valid_pred)\n",
    "    train_mape = mean_absolute_percentage_error(y_train, y_train_pred)\n",
    "    valid_mape = mean_absolute_percentage_error(y_valid, y_valid_pred)\n",
    "\n",
    "    return train_mae, valid_mae, train_mape, valid_mape, y_train_pred, y_valid_pred\n",
    "\n",
    "\n",
    "# 모델 학습 및 평가\n",
    "\n",
    "# Multiple Regression\n",
    "lr_model = LinearRegression()\n",
    "lr_train_mae, lr_valid_mae, lr_train_mape, lr_valid_mape, lr_y_train_pred, lr_y_valid_pred = train_and_evaluate_model(lr_model, X_train, X_valid, y_train, y_valid)\n",
    "\n",
    "# Random Forest\n",
    "rf_model = RandomForestRegressor(n_estimators=100, random_state=42, n_jobs=-1)\n",
    "rf_train_mae, rf_valid_mae, rf_train_mape, rf_valid_mape, rf_y_train_pred, rf_y_valid_pred = train_and_evaluate_model(rf_model, X_train, X_valid, y_train, y_valid)\n",
    "\n",
    "# LightGBM\n",
    "lgb_model = lgb.LGBMRegressor(n_estimators=100, random_state=42)\n",
    "lgb_train_mae, lgb_valid_mae, lgb_train_mape, lgb_valid_mape, lgb_y_train_pred, lgb_y_valid_pred = train_and_evaluate_model(lgb_model, X_train, X_valid, y_train, y_valid)\n",
    "\n",
    "\n",
    "# 결과 출력\n",
    "print(f\"Linear Regression - Train MAE: {lr_train_mae}, Train MAPE: {lr_train_mape*100}\")\n",
    "print(f\"Linear Regression - Valid MAE: {lr_valid_mae}, Valid MAPE: {lr_valid_mape*100}\")\n",
    "print()\n",
    "print(f\"Random Forest - Train MAE: {rf_train_mae}, Train MAPE: {rf_train_mape*100}\")\n",
    "print(f\"Random Forest - Valid MAE: {rf_valid_mae}, Valid MAPE: {rf_valid_mape*100}\")\n",
    "print()\n",
    "print(f\"LightGBM - Train MAE: {lgb_train_mae}, Train MAPE: {lgb_train_mape*100}\")\n",
    "print(f\"LightGBM - Valid MAE: {lgb_valid_mae}, Valid MAPE: {lgb_valid_mape*100}\")"
   ]
  },
  {
   "cell_type": "code",
   "execution_count": 3,
   "metadata": {},
   "outputs": [
    {
     "name": "stdout",
     "output_type": "stream",
     "text": [
      "Final Test - Linear Regression MAE: 0.02367770578477326, MAPE: 0.7737255505206666\n",
      "Final Test - Random Forest MAE: 0.026774825057899774, MAPE: 0.8766874021924751\n",
      "Final Test - LightGBM MAE: 0.02423126942205223, MAPE: 0.7930422335720423\n"
     ]
    }
   ],
   "source": [
    "### Test 평가\n",
    "\n",
    "# Test_data 로딩\n",
    "test_file = '../0. Data/2. output/0. Test_data.csv'\n",
    "test_data = pd.read_csv(test_file)\n",
    "\n",
    "\n",
    "# 피처와 타겟 분리\n",
    "X_test_final = test_data.drop(columns=['scale_pv'])\n",
    "y_test_final = test_data['scale_pv']\n",
    "\n",
    "\n",
    "# 최종 테스트 데이터 예측 및 평가\n",
    "def final_evaluate_model(model, X_test, y_test):\n",
    "    y_test_pred = model.predict(X_test)\n",
    "\n",
    "    test_mae = mean_absolute_error(y_test, y_test_pred)\n",
    "    test_mape = mean_absolute_percentage_error(y_test, y_test_pred)\n",
    "\n",
    "    return test_mae, test_mape, y_test_pred\n",
    "\n",
    "\n",
    "# 최종 평가 결과\n",
    "lr_test_mae_final, lr_test_mape_final, lr_y_test_pred_final = final_evaluate_model(lr_model, X_test_final, y_test_final)\n",
    "rf_test_mae_final, rf_test_mape_final, rf_y_test_pred_final = final_evaluate_model(rf_model, X_test_final, y_test_final)\n",
    "lgb_test_mae_final, lgb_test_mape_final, lgb_y_test_pred_final = final_evaluate_model(lgb_model, X_test_final, y_test_final)\n",
    "\n",
    "print(f\"Final Test - Linear Regression MAE: {lr_test_mae_final}, MAPE: {lr_test_mape_final*100}\")\n",
    "print(f\"Final Test - Random Forest MAE: {rf_test_mae_final}, MAPE: {rf_test_mape_final*100}\")\n",
    "print(f\"Final Test - LightGBM MAE: {lgb_test_mae_final}, MAPE: {lgb_test_mape_final*100}\")"
   ]
  }
 ],
 "metadata": {
  "kernelspec": {
   "display_name": "Torch_NLP38",
   "language": "python",
   "name": "python3"
  },
  "language_info": {
   "codemirror_mode": {
    "name": "ipython",
    "version": 3
   },
   "file_extension": ".py",
   "mimetype": "text/x-python",
   "name": "python",
   "nbconvert_exporter": "python",
   "pygments_lexer": "ipython3",
   "version": "3.8.19"
  }
 },
 "nbformat": 4,
 "nbformat_minor": 2
}
