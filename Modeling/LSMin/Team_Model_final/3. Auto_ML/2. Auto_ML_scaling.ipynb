{
 "cells": [
  {
   "cell_type": "code",
   "execution_count": 1,
   "metadata": {},
   "outputs": [],
   "source": [
    "### 모듈 및 데이터 로딩\n",
    "import pandas as pd\n",
    "import numpy as np\n",
    "from sklearn.model_selection import train_test_split\n",
    "from sklearn.preprocessing import StandardScaler\n",
    "from tpot import TPOTRegressor\n",
    "from sklearn.metrics import mean_absolute_error, mean_absolute_percentage_error\n",
    "file = '../0. Data/2. output/1. Train_data.csv'\n",
    "data = pd.read_csv(file)"
   ]
  },
  {
   "cell_type": "code",
   "execution_count": 2,
   "metadata": {},
   "outputs": [
    {
     "name": "stderr",
     "output_type": "stream",
     "text": [
      "Version 0.12.1 of tpot is outdated. Version 0.12.2 was released Friday February 23, 2024.\n"
     ]
    },
    {
     "name": "stdout",
     "output_type": "stream",
     "text": [
      "                                                                              \n",
      "Generation 1 - Current best internal CV score: -0.6754608515645353\n",
      "                                                                              \n",
      "Generation 2 - Current best internal CV score: -0.6754608515645353\n",
      "                                                                              \n",
      "Generation 3 - Current best internal CV score: -0.6754608515645353\n",
      "                                                                              \n",
      "Generation 4 - Current best internal CV score: -0.6706113498202649\n",
      "                                                                              \n",
      "Generation 5 - Current best internal CV score: -0.6706113498202649\n",
      "                                                                              \n",
      "Best pipeline: RandomForestRegressor(input_matrix, bootstrap=False, max_features=0.5, min_samples_leaf=1, min_samples_split=8, n_estimators=100)\n",
      "Train MAE: 0.012408305003867139\n",
      "Valid MAE: 0.022173990081729947\n",
      "Train MAPE: 0.4085959439673729\n",
      "Valid MAPE: 0.7308573328189855\n",
      "Pipeline(steps=[('randomforestregressor',\n",
      "                 RandomForestRegressor(bootstrap=False, max_features=0.5,\n",
      "                                       min_samples_split=8, random_state=42))])\n"
     ]
    }
   ],
   "source": [
    "### 모델링 및 Train 평가\n",
    "\n",
    "\n",
    "# 중복값 제거\n",
    "data.drop_duplicates(inplace=True)\n",
    "\n",
    "\n",
    "# 피처와 타겟 분리\n",
    "X = data.drop(columns=['scale_pv'])\n",
    "y = data['scale_pv']\n",
    "\n",
    "\n",
    "# 학습 데이터와 테스트 데이터 분리\n",
    "X_train, X_valid, y_train, y_valid = train_test_split(X, y, test_size=0.2, random_state=42)\n",
    "\n",
    "\n",
    "# 데이터 스케일링\n",
    "scaler = StandardScaler()\n",
    "X_train_scaled = scaler.fit_transform(X_train)\n",
    "X_valid_scaled = scaler.transform(X_valid)\n",
    "\n",
    "\n",
    "# 타겟 스케일링\n",
    "target_scaler = StandardScaler()\n",
    "y_train_scaled = target_scaler.fit_transform(y_train.values.reshape(-1, 1))\n",
    "y_valid_scaled = target_scaler.transform(y_valid.values.reshape(-1, 1))\n",
    "\n",
    "\n",
    "# TPOT Regressor 설정 및 학습\n",
    "tpot = TPOTRegressor(verbosity=2, generations=5, population_size=50, random_state=42, n_jobs=-1)\n",
    "tpot.fit(X_train_scaled, y_train_scaled.ravel())\n",
    "\n",
    "\n",
    "# 모델 평가\n",
    "y_train_pred_scaled = tpot.predict(X_train_scaled)\n",
    "y_valid_pred_scaled = tpot.predict(X_valid_scaled)\n",
    "\n",
    "\n",
    "# 타겟 역스케일링\n",
    "y_train_pred = target_scaler.inverse_transform(y_train_pred_scaled.reshape(-1, 1))\n",
    "y_valid_pred = target_scaler.inverse_transform(y_valid_pred_scaled.reshape(-1, 1))\n",
    "y_train_original = target_scaler.inverse_transform(y_train_scaled)\n",
    "y_valid_original = target_scaler.inverse_transform(y_valid_scaled)\n",
    "\n",
    "\n",
    "# 평가 지표 계산\n",
    "train_mae = mean_absolute_error(y_train_original, y_train_pred)\n",
    "valid_mae = mean_absolute_error(y_valid_original, y_valid_pred)\n",
    "train_mape = mean_absolute_percentage_error(y_train_original, y_train_pred)\n",
    "valid_mape = mean_absolute_percentage_error(y_valid_original, y_valid_pred)\n",
    "\n",
    "print(f\"Train MAE: {train_mae}\")\n",
    "print(f\"Valid MAE: {valid_mae}\")\n",
    "print(f\"Train MAPE: {train_mape * 100}\")\n",
    "print(f\"Valid MAPE: {valid_mape * 100}\")\n",
    "\n",
    "\n",
    "# 최적의 파이프라인 출력 및 저장\n",
    "print(tpot.fitted_pipeline_)\n",
    "tpot.export('2.1 scaling_tpot_best_pipeline.py')"
   ]
  },
  {
   "cell_type": "code",
   "execution_count": 5,
   "metadata": {},
   "outputs": [
    {
     "name": "stdout",
     "output_type": "stream",
     "text": [
      "Final Test MAE: 0.026272391289611938\n",
      "Final Test MAPE: 0.8601835680490993\n"
     ]
    }
   ],
   "source": [
    "### Test 평가\n",
    "\n",
    "\n",
    "# Test 데이터 로딩\n",
    "test_file = '../0. Data/2. output/0. Test_data.csv'  # 적절한 경로로 수정\n",
    "test_data = pd.read_csv(test_file)\n",
    "\n",
    "\n",
    "# 피처와 타겟 분리\n",
    "X_test_final = test_data.drop(columns=['scale_pv'])\n",
    "y_test_final = test_data['scale_pv']\n",
    "\n",
    "\n",
    "# 테스트 데이터 스케일링\n",
    "X_test_final_scaled = scaler.transform(X_test_final)\n",
    "y_test_final_scaled = target_scaler.transform(y_test_final.values.reshape(-1, 1))\n",
    "\n",
    "\n",
    "# 최종 테스트 데이터 예측 및 평가\n",
    "y_test_pred_scaled = tpot.predict(X_test_final_scaled)\n",
    "\n",
    "\n",
    "# 타겟 역스케일링\n",
    "y_test_pred = target_scaler.inverse_transform(y_test_pred_scaled.reshape(-1, 1))\n",
    "y_test_original = target_scaler.inverse_transform(y_test_final_scaled)\n",
    "\n",
    "\n",
    "# 평가 지표 계산\n",
    "test_mae = mean_absolute_error(y_test_original, y_test_pred)\n",
    "test_mape = mean_absolute_percentage_error(y_test_original, y_test_pred)\n",
    "\n",
    "\n",
    "print(f\"Final Test MAE: {test_mae}\")\n",
    "print(f\"Final Test MAPE: {test_mape * 100}\")"
   ]
  }
 ],
 "metadata": {
  "kernelspec": {
   "display_name": "Torch_NLP38",
   "language": "python",
   "name": "python3"
  },
  "language_info": {
   "codemirror_mode": {
    "name": "ipython",
    "version": 3
   },
   "file_extension": ".py",
   "mimetype": "text/x-python",
   "name": "python",
   "nbconvert_exporter": "python",
   "pygments_lexer": "ipython3",
   "version": "3.8.19"
  }
 },
 "nbformat": 4,
 "nbformat_minor": 2
}
