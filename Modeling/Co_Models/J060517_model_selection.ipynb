{
 "cells": [
  {
   "cell_type": "markdown",
   "metadata": {},
   "source": [
    "### 앞서 전처리 과정 + 모델 선정 과정을 거친 최종 모델로 RPM 모델 제작 "
   ]
  },
  {
   "cell_type": "markdown",
   "metadata": {},
   "source": [
    "#### 기존의 전처리 방법과 다른 점\n",
    ": 모델 및 스케일러를 미리 선정할지, 성적 위주로 선정할지가 다름  \n",
    "1. 기존 전처리 방법 : 모델 및 스케일러를 미리 선정\n",
    "2. 스케일러 : StandardScaler; 데이터의 분포가 정규분포를 따르기 때문에, 또 이상치가 적기 때문에 사용\n",
    "3. 모델 : 각 머신러닝, 앙상블, 부스팅 -> linear Regression; 성적을 비교한 후 fine_tuning을 통해 최적의 모델 선정\n",
    "4. 단점 : 데이터나 모델에 대한 이해가 부족할 때 더 나은 방법을 놓칠 수 있음"
   ]
  },
  {
   "cell_type": "markdown",
   "metadata": {},
   "source": [
    "#### 이번 전처리 방법 : 성적 위주로 선정\n",
    "1. 세 가지 스케일러와 다수의 모델을 비교하고 최적의 모델을 선정\n",
    "2. 데이터의 규모가 작아 가능한 방법\n",
    "3. 또한 cross_val_score를 통해 성적을 비교하므로, 성적을 비교하는 것이 더욱 정확함\n",
    "4. 참고 정보 : \n",
    "   1. StandardScaler : 정규 분포 / 평균 0, 분산 1 / 이상치를 신경쓰지 않음\n",
    "   2. MinMaxScaler : 최소 0, 최대 1 / 이상치에 민감: 이상치가 많고 반영하고 싶을 때 사용\n",
    "   3. RobustScaler : 중앙값 0, IQR 1 / 이상치에 둔감: 이상치가 많고 배제하고 싶을 때 사용"
   ]
  },
  {
   "cell_type": "markdown",
   "metadata": {},
   "source": [
    "---"
   ]
  },
  {
   "cell_type": "code",
   "execution_count": 1,
   "metadata": {},
   "outputs": [],
   "source": [
    "from model_selection import Scale_Prediction as sp\n",
    "from bayesian_optimizer import bayes_SVR_RFR\n",
    "\n",
    "import pandas as pd\n",
    "import numpy as np\n",
    "import matplotlib.pyplot as plt"
   ]
  },
  {
   "cell_type": "code",
   "execution_count": 2,
   "metadata": {},
   "outputs": [],
   "source": [
    "# Load the data\n",
    "data = pd.read_csv('../DATA/raw_2023051820231018_경대기업맞춤형.csv')\n",
    "train_data, test_data = sp().preps(data)\n",
    "\n",
    "# 2 ~ 4 scale\n",
    "train_data = sp().scale_2_4(train_data)\n",
    "test_data = sp().scale_2_4(test_data)\n",
    "\n",
    "# Split\n",
    "X_train = train_data.drop('scale_pv', axis=1)\n",
    "y_train = train_data['scale_pv']\n",
    "X_test = test_data.drop('scale_pv', axis=1)\n",
    "y_test = test_data['scale_pv']\n",
    "\n",
    "# Modeling\n",
    "# basic_modeling(X_train, y_train, X_test, y_test)\n"
   ]
  },
  {
   "cell_type": "markdown",
   "metadata": {},
   "source": [
    "### 기본 모델링 결과\n",
    "1. 모델 : linear regression, Random Forest, LightGBM (각각 머신러닝, 앙상블, 부스팅 모델)\n",
    "2. 평가지표 : MAE, MAPE, R2, mean_diff\n",
    "3. scaler의 영향은 크게 없어 보임, MAPE는 standard, diff에선 "
   ]
  },
  {
   "cell_type": "code",
   "execution_count": 3,
   "metadata": {},
   "outputs": [
    {
     "name": "stdout",
     "output_type": "stream",
     "text": [
      "LinearRegression with None. LinearRegression with StandardScaler. LinearRegression with MinMaxScaler. LinearRegression with RobustScaler. Lasso with None. Lasso with StandardScaler. Lasso with MinMaxScaler. Lasso with RobustScaler. Ridge with None. Ridge with StandardScaler. Ridge with MinMaxScaler. Ridge with RobustScaler. BayesianRidge with None. BayesianRidge with StandardScaler. BayesianRidge with MinMaxScaler. BayesianRidge with RobustScaler. ElasticNet with None. ElasticNet with StandardScaler. ElasticNet with MinMaxScaler. ElasticNet with RobustScaler. RandomForestRegressor with None. RandomForestRegressor with StandardScaler. RandomForestRegressor with MinMaxScaler. RandomForestRegressor with RobustScaler. GradientBoostingRegressor with None. GradientBoostingRegressor with StandardScaler. GradientBoostingRegressor with MinMaxScaler. GradientBoostingRegressor with RobustScaler. AdaBoostRegressor with None. AdaBoostRegressor with StandardScaler. AdaBoostRegressor with MinMaxScaler. AdaBoostRegressor with RobustScaler. LGBMRegressor with None. [LightGBM] [Info] Auto-choosing row-wise multi-threading, the overhead of testing was 0.000161 seconds.\n",
      "You can set `force_row_wise=true` to remove the overhead.\n",
      "And if memory is not enough, you can set `force_col_wise=true`.\n",
      "[LightGBM] [Info] Total Bins 215\n",
      "[LightGBM] [Info] Number of data points in the train set: 36720, number of used features: 4\n",
      "[LightGBM] [Info] Start training from score 3.041614\n",
      "LGBMRegressor with StandardScaler. [LightGBM] [Info] Auto-choosing row-wise multi-threading, the overhead of testing was 0.000162 seconds.\n",
      "You can set `force_row_wise=true` to remove the overhead.\n",
      "And if memory is not enough, you can set `force_col_wise=true`.\n",
      "[LightGBM] [Info] Total Bins 215\n",
      "[LightGBM] [Info] Number of data points in the train set: 36720, number of used features: 4\n",
      "[LightGBM] [Info] Start training from score 3.041614\n",
      "LGBMRegressor with MinMaxScaler. [LightGBM] [Info] Auto-choosing row-wise multi-threading, the overhead of testing was 0.000157 seconds.\n",
      "You can set `force_row_wise=true` to remove the overhead.\n",
      "And if memory is not enough, you can set `force_col_wise=true`.\n",
      "[LightGBM] [Info] Total Bins 212\n",
      "[LightGBM] [Info] Number of data points in the train set: 36720, number of used features: 4\n",
      "[LightGBM] [Info] Start training from score 3.041614\n",
      "LGBMRegressor with RobustScaler. [LightGBM] [Info] Auto-choosing row-wise multi-threading, the overhead of testing was 0.000158 seconds.\n",
      "You can set `force_row_wise=true` to remove the overhead.\n",
      "And if memory is not enough, you can set `force_col_wise=true`.\n",
      "[LightGBM] [Info] Total Bins 211\n",
      "[LightGBM] [Info] Number of data points in the train set: 36720, number of used features: 4\n",
      "[LightGBM] [Info] Start training from score 3.041614\n",
      "ARDRegression with None. ARDRegression with StandardScaler. ARDRegression with MinMaxScaler. ARDRegression with RobustScaler. HuberRegressor with None. HuberRegressor with StandardScaler. HuberRegressor with MinMaxScaler. HuberRegressor with RobustScaler. "
     ]
    },
    {
     "data": {
      "text/html": [
       "<div>\n",
       "<style scoped>\n",
       "    .dataframe tbody tr th:only-of-type {\n",
       "        vertical-align: middle;\n",
       "    }\n",
       "\n",
       "    .dataframe tbody tr th {\n",
       "        vertical-align: top;\n",
       "    }\n",
       "\n",
       "    .dataframe thead th {\n",
       "        text-align: right;\n",
       "    }\n",
       "</style>\n",
       "<table border=\"1\" class=\"dataframe\">\n",
       "  <thead>\n",
       "    <tr style=\"text-align: right;\">\n",
       "      <th></th>\n",
       "      <th>model</th>\n",
       "      <th>scaler</th>\n",
       "      <th>mae</th>\n",
       "      <th>mape</th>\n",
       "      <th>mean_diff</th>\n",
       "      <th>std_diff</th>\n",
       "      <th>min_diff</th>\n",
       "      <th>25%_diff</th>\n",
       "      <th>50%_diff</th>\n",
       "      <th>75%_diff</th>\n",
       "      <th>max_diff</th>\n",
       "      <th>top_features</th>\n",
       "    </tr>\n",
       "  </thead>\n",
       "  <tbody>\n",
       "    <tr>\n",
       "      <th>0</th>\n",
       "      <td>LinearRegression</td>\n",
       "      <td>None</td>\n",
       "      <td>0.025878</td>\n",
       "      <td>0.852407</td>\n",
       "      <td>0.009337</td>\n",
       "      <td>0.030945</td>\n",
       "      <td>-0.182137</td>\n",
       "      <td>-0.008410</td>\n",
       "      <td>0.009348</td>\n",
       "      <td>0.025435</td>\n",
       "      <td>0.218106</td>\n",
       "      <td>n_temp_pv k_rpm_pv s_temp_pv</td>\n",
       "    </tr>\n",
       "    <tr>\n",
       "      <th>1</th>\n",
       "      <td>LinearRegression</td>\n",
       "      <td>StandardScaler</td>\n",
       "      <td>0.025878</td>\n",
       "      <td>0.852407</td>\n",
       "      <td>0.009337</td>\n",
       "      <td>0.030945</td>\n",
       "      <td>-0.182137</td>\n",
       "      <td>-0.008410</td>\n",
       "      <td>0.009348</td>\n",
       "      <td>0.025435</td>\n",
       "      <td>0.218106</td>\n",
       "      <td>n_temp_pv s_temp_pv c_temp_pv</td>\n",
       "    </tr>\n",
       "    <tr>\n",
       "      <th>2</th>\n",
       "      <td>LinearRegression</td>\n",
       "      <td>MinMaxScaler</td>\n",
       "      <td>0.025878</td>\n",
       "      <td>0.852407</td>\n",
       "      <td>0.009337</td>\n",
       "      <td>0.030945</td>\n",
       "      <td>-0.182137</td>\n",
       "      <td>-0.008410</td>\n",
       "      <td>0.009348</td>\n",
       "      <td>0.025435</td>\n",
       "      <td>0.218106</td>\n",
       "      <td>n_temp_pv s_temp_pv c_temp_pv</td>\n",
       "    </tr>\n",
       "    <tr>\n",
       "      <th>3</th>\n",
       "      <td>LinearRegression</td>\n",
       "      <td>RobustScaler</td>\n",
       "      <td>0.025878</td>\n",
       "      <td>0.852407</td>\n",
       "      <td>0.009337</td>\n",
       "      <td>0.030945</td>\n",
       "      <td>-0.182137</td>\n",
       "      <td>-0.008410</td>\n",
       "      <td>0.009348</td>\n",
       "      <td>0.025435</td>\n",
       "      <td>0.218106</td>\n",
       "      <td>n_temp_pv c_temp_pv s_temp_pv</td>\n",
       "    </tr>\n",
       "    <tr>\n",
       "      <th>4</th>\n",
       "      <td>Lasso</td>\n",
       "      <td>None</td>\n",
       "      <td>0.026316</td>\n",
       "      <td>0.866306</td>\n",
       "      <td>0.005966</td>\n",
       "      <td>0.032548</td>\n",
       "      <td>-0.191614</td>\n",
       "      <td>-0.011614</td>\n",
       "      <td>0.008386</td>\n",
       "      <td>0.018386</td>\n",
       "      <td>0.238386</td>\n",
       "      <td>s_temp_pv n_temp_pv k_rpm_pv</td>\n",
       "    </tr>\n",
       "  </tbody>\n",
       "</table>\n",
       "</div>"
      ],
      "text/plain": [
       "              model          scaler       mae      mape  mean_diff  std_diff  \\\n",
       "0  LinearRegression            None  0.025878  0.852407   0.009337  0.030945   \n",
       "1  LinearRegression  StandardScaler  0.025878  0.852407   0.009337  0.030945   \n",
       "2  LinearRegression    MinMaxScaler  0.025878  0.852407   0.009337  0.030945   \n",
       "3  LinearRegression    RobustScaler  0.025878  0.852407   0.009337  0.030945   \n",
       "4             Lasso            None  0.026316  0.866306   0.005966  0.032548   \n",
       "\n",
       "   min_diff  25%_diff  50%_diff  75%_diff  max_diff  \\\n",
       "0 -0.182137 -0.008410  0.009348  0.025435  0.218106   \n",
       "1 -0.182137 -0.008410  0.009348  0.025435  0.218106   \n",
       "2 -0.182137 -0.008410  0.009348  0.025435  0.218106   \n",
       "3 -0.182137 -0.008410  0.009348  0.025435  0.218106   \n",
       "4 -0.191614 -0.011614  0.008386  0.018386  0.238386   \n",
       "\n",
       "                    top_features  \n",
       "0   n_temp_pv k_rpm_pv s_temp_pv  \n",
       "1  n_temp_pv s_temp_pv c_temp_pv  \n",
       "2  n_temp_pv s_temp_pv c_temp_pv  \n",
       "3  n_temp_pv c_temp_pv s_temp_pv  \n",
       "4   s_temp_pv n_temp_pv k_rpm_pv  "
      ]
     },
     "execution_count": 3,
     "metadata": {},
     "output_type": "execute_result"
    }
   ],
   "source": [
    "# Bayesian Optimization은 모델 선정 후 사용\n",
    "scores_df = sp().basic_modeling(X_train, y_train, X_test, y_test)\n",
    "scores_df.head()"
   ]
  },
  {
   "cell_type": "code",
   "execution_count": 4,
   "metadata": {},
   "outputs": [
    {
     "data": {
      "text/plain": [
       "[('LinearRegression', LinearRegression()),\n",
       " ('Lasso', Lasso()),\n",
       " ('Ridge', Ridge()),\n",
       " ('BayesianRidge', BayesianRidge()),\n",
       " ('ElasticNet', ElasticNet()),\n",
       " ('RandomForestRegressor', RandomForestRegressor()),\n",
       " ('GradientBoostingRegressor', GradientBoostingRegressor()),\n",
       " ('AdaBoostRegressor', AdaBoostRegressor()),\n",
       " ('LGBMRegressor', LGBMRegressor()),\n",
       " ('ARDRegression', ARDRegression()),\n",
       " ('HuberRegressor', HuberRegressor())]"
      ]
     },
     "execution_count": 4,
     "metadata": {},
     "output_type": "execute_result"
    }
   ],
   "source": [
    "scores_df.to_csv('../DATA/scores_df.csv', index=False)\n",
    "sp().models"
   ]
  },
  {
   "cell_type": "markdown",
   "metadata": {},
   "source": [
    "### scores_df.csv 저장 완료"
   ]
  },
  {
   "cell_type": "code",
   "execution_count": null,
   "metadata": {},
   "outputs": [],
   "source": []
  }
 ],
 "metadata": {
  "kernelspec": {
   "display_name": "Python 3",
   "language": "python",
   "name": "python3"
  },
  "language_info": {
   "codemirror_mode": {
    "name": "ipython",
    "version": 3
   },
   "file_extension": ".py",
   "mimetype": "text/x-python",
   "name": "python",
   "nbconvert_exporter": "python",
   "pygments_lexer": "ipython3",
   "version": "3.11.9"
  }
 },
 "nbformat": 4,
 "nbformat_minor": 2
}
