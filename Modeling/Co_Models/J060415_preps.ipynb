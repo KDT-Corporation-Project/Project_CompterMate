{
 "cells": [
  {
   "cell_type": "markdown",
   "metadata": {},
   "source": [
    "### 1. 전처리, 피처공학"
   ]
  },
  {
   "cell_type": "code",
   "execution_count": 3,
   "metadata": {},
   "outputs": [
    {
     "name": "stdout",
     "output_type": "stream",
     "text": [
      "기본 데이터 shape : (235413, 13)\n",
      "scale_pv < 5 shape : (233676, 13)\n",
      "E_scr_pv == 8 shape : (229983, 13)\n",
      "k_rpm_pv > 100 shape : (229810, 13)\n",
      "oct_data shape : (29651, 5)\n",
      "train_data shape : (200159, 5)\n"
     ]
    }
   ],
   "source": [
    "# # Data Preprocessing\n",
    "import pandas as pd\n",
    "import numpy as np\n",
    "\n",
    "data = pd.read_csv('../DATA/raw_2023051820231018_경대기업맞춤형.csv')\n",
    "print('기본 데이터 shape :', data.shape)\n",
    "\n",
    "# 2) scale_pv < 5, E_scr_pv == 8, k_rpm_pv > 50\n",
    "data = data[data['scale_pv'] < 5]  # 약 1800개 제거\n",
    "print('scale_pv < 5 shape :', data.shape)\n",
    "data = data[data['E_scr_pv'] == 8]  # 약 3800개 제거\n",
    "print('E_scr_pv == 8 shape :', data.shape)\n",
    "data = data[data['k_rpm_pv'] > 50] # 약 170개 제거\n",
    "print('k_rpm_pv > 100 shape :', data.shape)\n",
    "\n",
    "# 3) E_scr_sv, c_temp_sv, n_temp_sv, s_temp_sv, k_rpm_sv, n_temp_sv 제거\n",
    "data.drop(['E_scr_sv', 'E_scr_pv', 'c_temp_sv', 's_temp_sv', 'k_rpm_sv', 'n_temp_sv', 'Unnamed: 12'], axis=1, inplace=True)\n",
    "\n",
    "data['time'] = pd.to_datetime(data['time'])\n",
    "oct_data = data[data['time'].dt.month == 10]\n",
    "oct_data = oct_data.drop('time', axis=1)\n",
    "print('oct_data shape :', oct_data.shape)\n",
    "\n",
    "train_data = data[data['time'].dt.month != 10]\n",
    "train_data = train_data.drop('time', axis=1)\n",
    "print('train_data shape :', train_data.shape)"
   ]
  },
  {
   "cell_type": "markdown",
   "metadata": {},
   "source": [
    "### 스케일링 X. 증강 X"
   ]
  },
  {
   "cell_type": "code",
   "execution_count": 7,
   "metadata": {},
   "outputs": [],
   "source": [
    "# train, test 분리\n",
    "from sklearn.model_selection import train_test_split\n",
    "\n",
    "# 2 < scale_pv < 4\n",
    "train_data_2_4 = train_data[(train_data['scale_pv'] > 2) & (train_data['scale_pv'] < 4)]\n",
    "\n",
    "Feature_train = train_data_2_4.drop('scale_pv', axis=1)\n",
    "Target_train = train_data_2_4['scale_pv']\n",
    "\n",
    "X_train, X_test, y_train, y_test = train_test_split(Feature_train, Target_train, test_size=0.2, random_state=42) \n"
   ]
  },
  {
   "cell_type": "code",
   "execution_count": 22,
   "metadata": {},
   "outputs": [
    {
     "name": "stderr",
     "output_type": "stream",
     "text": [
      "C:\\Users\\wjs31\\AppData\\Local\\Temp\\ipykernel_17876\\1885545908.py:54: FutureWarning: The behavior of DataFrame concatenation with empty or all-NA entries is deprecated. In a future version, this will no longer exclude empty or all-NA columns when determining the result dtypes. To retain the old behavior, exclude the relevant entries before the concat operation.\n",
      "  score_df = pd.concat(\n"
     ]
    },
    {
     "name": "stdout",
     "output_type": "stream",
     "text": [
      "[LightGBM] [Info] Auto-choosing row-wise multi-threading, the overhead of testing was 0.000099 seconds.\n",
      "You can set `force_row_wise=true` to remove the overhead.\n",
      "And if memory is not enough, you can set `force_col_wise=true`.\n",
      "[LightGBM] [Info] Total Bins 212\n",
      "[LightGBM] [Info] Number of data points in the train set: 29376, number of used features: 4\n",
      "[LightGBM] [Info] Start training from score 3.041735\n",
      "Unexpected exception formatting exception. Falling back to standard exception\n"
     ]
    },
    {
     "name": "stderr",
     "output_type": "stream",
     "text": [
      "Traceback (most recent call last):\n",
      "  File \"c:\\Users\\wjs31\\.conda\\envs\\EXAM_MML\\lib\\site-packages\\IPython\\core\\formatters.py\", line 223, in catch_format_error\n",
      "    r = method(self, *args, **kwargs)\n",
      "  File \"c:\\Users\\wjs31\\.conda\\envs\\EXAM_MML\\lib\\site-packages\\IPython\\core\\formatters.py\", line 344, in __call__\n",
      "    return method()\n",
      "  File \"c:\\Users\\wjs31\\.conda\\envs\\EXAM_MML\\lib\\site-packages\\pandas\\core\\frame.py\", line 1175, in _repr_html_\n",
      "    # check whether repr fits horizontal by actually checking\n",
      "  File \"c:\\Users\\wjs31\\.conda\\envs\\EXAM_MML\\lib\\site-packages\\pandas\\io\\formats\\format.py\", line 1074, in to_html\n",
      "  File \"c:\\Users\\wjs31\\.conda\\envs\\EXAM_MML\\lib\\site-packages\\pandas\\io\\formats\\html.py\", line 88, in to_string\n",
      "    lines = self.render()\n",
      "  File \"c:\\Users\\wjs31\\.conda\\envs\\EXAM_MML\\lib\\site-packages\\pandas\\io\\formats\\html.py\", line 644, in render\n",
      "    super().render()\n",
      "  File \"c:\\Users\\wjs31\\.conda\\envs\\EXAM_MML\\lib\\site-packages\\pandas\\io\\formats\\html.py\", line 94, in render\n",
      "    self._write_table()\n",
      "  File \"c:\\Users\\wjs31\\.conda\\envs\\EXAM_MML\\lib\\site-packages\\pandas\\io\\formats\\html.py\", line 267, in _write_table\n",
      "    self._write_header(indent + self.indent_delta)\n",
      "  File \"c:\\Users\\wjs31\\.conda\\envs\\EXAM_MML\\lib\\site-packages\\pandas\\io\\formats\\html.py\", line 403, in _write_header\n",
      "    self._write_col_header(indent + self.indent_delta)\n",
      "  File \"c:\\Users\\wjs31\\.conda\\envs\\EXAM_MML\\lib\\site-packages\\pandas\\io\\formats\\html.py\", line 383, in _write_col_header\n",
      "    row.extend(self._get_columns_formatted_values())\n",
      "  File \"c:\\Users\\wjs31\\.conda\\envs\\EXAM_MML\\lib\\site-packages\\pandas\\io\\formats\\html.py\", line 611, in _get_columns_formatted_values\n",
      "    return self.columns._format_flat(include_name=False)\n",
      "AttributeError: 'Index' object has no attribute '_format_flat'\n",
      "\n",
      "During handling of the above exception, another exception occurred:\n",
      "\n",
      "Traceback (most recent call last):\n",
      "  File \"c:\\Users\\wjs31\\.conda\\envs\\EXAM_MML\\lib\\site-packages\\IPython\\core\\interactiveshell.py\", line 2120, in showtraceback\n",
      "    stb = self.InteractiveTB.structured_traceback(\n",
      "  File \"c:\\Users\\wjs31\\.conda\\envs\\EXAM_MML\\lib\\site-packages\\IPython\\core\\ultratb.py\", line 1435, in structured_traceback\n",
      "    return FormattedTB.structured_traceback(\n",
      "  File \"c:\\Users\\wjs31\\.conda\\envs\\EXAM_MML\\lib\\site-packages\\IPython\\core\\ultratb.py\", line 1326, in structured_traceback\n",
      "    return VerboseTB.structured_traceback(\n",
      "  File \"c:\\Users\\wjs31\\.conda\\envs\\EXAM_MML\\lib\\site-packages\\IPython\\core\\ultratb.py\", line 1173, in structured_traceback\n",
      "    formatted_exception = self.format_exception_as_a_whole(etype, evalue, etb, number_of_lines_of_context,\n",
      "  File \"c:\\Users\\wjs31\\.conda\\envs\\EXAM_MML\\lib\\site-packages\\IPython\\core\\ultratb.py\", line 1088, in format_exception_as_a_whole\n",
      "    frames.append(self.format_record(record))\n",
      "  File \"c:\\Users\\wjs31\\.conda\\envs\\EXAM_MML\\lib\\site-packages\\IPython\\core\\ultratb.py\", line 970, in format_record\n",
      "    frame_info.lines, Colors, self.has_colors, lvals\n",
      "  File \"c:\\Users\\wjs31\\.conda\\envs\\EXAM_MML\\lib\\site-packages\\IPython\\core\\ultratb.py\", line 792, in lines\n",
      "    return self._sd.lines\n",
      "  File \"c:\\Users\\wjs31\\.conda\\envs\\EXAM_MML\\lib\\site-packages\\stack_data\\utils.py\", line 145, in cached_property_wrapper\n",
      "    value = obj.__dict__[self.func.__name__] = self.func(obj)\n",
      "  File \"c:\\Users\\wjs31\\.conda\\envs\\EXAM_MML\\lib\\site-packages\\stack_data\\core.py\", line 698, in lines\n",
      "    pieces = self.included_pieces\n",
      "  File \"c:\\Users\\wjs31\\.conda\\envs\\EXAM_MML\\lib\\site-packages\\stack_data\\utils.py\", line 145, in cached_property_wrapper\n",
      "    value = obj.__dict__[self.func.__name__] = self.func(obj)\n",
      "  File \"c:\\Users\\wjs31\\.conda\\envs\\EXAM_MML\\lib\\site-packages\\stack_data\\core.py\", line 649, in included_pieces\n",
      "    pos = scope_pieces.index(self.executing_piece)\n",
      "  File \"c:\\Users\\wjs31\\.conda\\envs\\EXAM_MML\\lib\\site-packages\\stack_data\\utils.py\", line 145, in cached_property_wrapper\n",
      "    value = obj.__dict__[self.func.__name__] = self.func(obj)\n",
      "  File \"c:\\Users\\wjs31\\.conda\\envs\\EXAM_MML\\lib\\site-packages\\stack_data\\core.py\", line 628, in executing_piece\n",
      "    return only(\n",
      "  File \"c:\\Users\\wjs31\\.conda\\envs\\EXAM_MML\\lib\\site-packages\\executing\\executing.py\", line 164, in only\n",
      "    raise NotOneValueFound('Expected one value, found 0')\n",
      "executing.executing.NotOneValueFound: Expected one value, found 0\n"
     ]
    },
    {
     "data": {
      "text/plain": [
       "                       model       MAE      MAPE        R2  dif_mean  \\\n",
       "0           LinearRegression  0.026319  0.868144  0.032088 -0.000619   \n",
       "0                      Lasso  0.026770  0.882421 -0.000218 -0.000605   \n",
       "0                      Ridge  0.026319  0.868144  0.032088 -0.000619   \n",
       "0              BayesianRidge  0.026318  0.868137  0.032093 -0.000619   \n",
       "0                 ElasticNet  0.026770  0.882421 -0.000218 -0.000605   \n",
       "0               SGDRegressor  0.026353  0.869405  0.031035 -0.000756   \n",
       "0      RandomForestRegressor  0.020720  0.682446  0.411869 -0.000060   \n",
       "0  GradientBoostingRegressor  0.025446  0.838909  0.154870 -0.000546   \n",
       "0          AdaBoostRegressor  0.044197  1.450397 -1.108532  0.027930   \n",
       "0              LGBMRegressor  0.024027  0.791635  0.282065 -0.000387   \n",
       "\n",
       "    dif_std   dif_max   dif_min  dif_median  \n",
       "0  0.040262  0.354901 -0.493781    0.000469  \n",
       "0  0.040929  0.388265 -0.481735   -0.001735  \n",
       "0  0.040262  0.354902 -0.493780    0.000469  \n",
       "0  0.040262  0.354988 -0.493715    0.000477  \n",
       "0  0.040929  0.388265 -0.481735   -0.001735  \n",
       "0  0.040282  0.350759 -0.495332    0.000518  \n",
       "0  0.031388  0.297800 -0.397600    0.000303  \n",
       "0  0.037623  0.311306 -0.449916    0.001025  \n",
       "0  0.052460  0.291154 -0.312904    0.019800  \n",
       "0  0.034678  0.250194 -0.369249    0.001009  "
      ]
     },
     "execution_count": 22,
     "metadata": {},
     "output_type": "execute_result"
    }
   ],
   "source": [
    "# 스케일링 없이 데이터 학습 및 분석\n",
    "# pipeline\n",
    "from sklearn.pipeline import Pipeline\n",
    "from sklearn.preprocessing import StandardScaler\n",
    "from sklearn.linear_model import LinearRegression, Lasso, Ridge, BayesianRidge, ElasticNet, SGDRegressor\n",
    "from sklearn.ensemble import RandomForestRegressor, GradientBoostingRegressor, AdaBoostRegressor\n",
    "from lightgbm import LGBMRegressor\n",
    "from sklearn.model_selection import cross_val_score\n",
    "from sklearn.metrics import mean_absolute_error, mean_absolute_percentage_error, r2_score\n",
    "\n",
    "\n",
    "# 모델 리스트\n",
    "models = [\n",
    "    ('LinearRegression', LinearRegression()),\n",
    "    ('Lasso', Lasso()),\n",
    "    ('Ridge', Ridge()),\n",
    "    ('BayesianRidge', BayesianRidge()),\n",
    "    ('ElasticNet', ElasticNet()),\n",
    "    ('SGDRegressor', SGDRegressor()),\n",
    "    ('RandomForestRegressor', RandomForestRegressor()),\n",
    "    ('GradientBoostingRegressor', GradientBoostingRegressor()),\n",
    "    ('AdaBoostRegressor', AdaBoostRegressor()),\n",
    "    ('LGBMRegressor', LGBMRegressor())\n",
    "]\n",
    "\n",
    "# [ cross_val_score 사용은 보류]\n",
    "# # 모델별 성능 확인\n",
    "# for name, model in models:\n",
    "#     pipeline = Pipeline([\n",
    "#         ('scaler', StandardScaler()),\n",
    "#         ('model', model)\n",
    "#     ])\n",
    "#     scores = cross_val_score(pipeline, X_train, y_train, cv=5, scoring='neg_mean_absolute_error')\n",
    "#     print(f'{name} : {scores.mean()}')\n",
    "    \n",
    "# 모델별 성능 확인\n",
    "score_df = pd.DataFrame(columns=['model', 'MAE', 'MAPE', 'R2'])\n",
    "\n",
    "for name, model in models:\n",
    "    pipeline = Pipeline([\n",
    "        ('scaler', StandardScaler()),\n",
    "        ('model', model)\n",
    "    ])\n",
    "    pipeline.fit(X_train, y_train)\n",
    "    y_pred = pipeline.predict(X_test)\n",
    "    # print(f'[ {name} ]')\n",
    "    # print('MAE :', mean_absolute_error(y_test, y_pred))\n",
    "    # print('MAPE :', mean_absolute_percentage_error(y_test, y_pred)*100)\n",
    "    # print('R2 :', r2_score(y_test, y_pred))\n",
    "    \n",
    "    diff = y_test - y_pred\n",
    "    \n",
    "    # score_df에 저장 : concat\n",
    "    score_df = pd.concat(\n",
    "        [score_df, \n",
    "         pd.DataFrame(\n",
    "            [\n",
    "              [name, mean_absolute_error(y_test, y_pred), \n",
    "              mean_absolute_percentage_error(y_test, y_pred)*100, \n",
    "              r2_score(y_test, y_pred),\n",
    "                diff.mean(), diff.std(), diff.max(), diff.min(), diff.median()]\n",
    "            ],\n",
    "            columns=['model', 'MAE', 'MAPE', 'R2', 'dif_mean', 'dif_std', 'dif_max', 'dif_min', 'dif_median']\n",
    "            )\n",
    "        ]\n",
    "    )\n",
    "    \n",
    "score_df"
   ]
  },
  {
   "cell_type": "code",
   "execution_count": null,
   "metadata": {},
   "outputs": [],
   "source": [
    "# Scaler 없이 데이터 학습 및 분석\n",
    "# 모델별 성능 확인\n"
   ]
  },
  {
   "cell_type": "code",
   "execution_count": null,
   "metadata": {},
   "outputs": [],
   "source": []
  }
 ],
 "metadata": {
  "kernelspec": {
   "display_name": "EXAM_MML",
   "language": "python",
   "name": "python3"
  },
  "language_info": {
   "codemirror_mode": {
    "name": "ipython",
    "version": 3
   },
   "file_extension": ".py",
   "mimetype": "text/x-python",
   "name": "python",
   "nbconvert_exporter": "python",
   "pygments_lexer": "ipython3",
   "version": "3.9.18"
  }
 },
 "nbformat": 4,
 "nbformat_minor": 2
}
