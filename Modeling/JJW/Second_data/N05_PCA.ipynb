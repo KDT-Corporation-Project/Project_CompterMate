{
 "cells": [
  {
   "cell_type": "markdown",
   "metadata": {},
   "source": [
    "### temp를 PCA로 통합해 분석해보자"
   ]
  },
  {
   "cell_type": "code",
   "execution_count": 1,
   "metadata": {},
   "outputs": [
    {
     "name": "stdout",
     "output_type": "stream",
     "text": [
      "<class 'pandas.core.frame.DataFrame'>\n",
      "RangeIndex: 200159 entries, 0 to 200158\n",
      "Data columns (total 5 columns):\n",
      " #   Column     Non-Null Count   Dtype  \n",
      "---  ------     --------------   -----  \n",
      " 0   c_temp_pv  200159 non-null  float64\n",
      " 1   k_rpm_pv   200159 non-null  int64  \n",
      " 2   n_temp_pv  200159 non-null  float64\n",
      " 3   scale_pv   200159 non-null  float64\n",
      " 4   s_temp_pv  200159 non-null  float64\n",
      "dtypes: float64(4), int64(1)\n",
      "memory usage: 7.6 MB\n"
     ]
    }
   ],
   "source": [
    "# load Data\n",
    "import pandas as pd\n",
    "import numpy as np\n",
    "\n",
    "data = pd.read_csv('../DATA/train_data.csv')\n",
    "data.info()"
   ]
  },
  {
   "cell_type": "code",
   "execution_count": 2,
   "metadata": {},
   "outputs": [
    {
     "name": "stdout",
     "output_type": "stream",
     "text": [
      "PCA Component Shape: (36720, 1)\n",
      "PCA Component: [[0.37016399 0.67372249 0.63959098]]\n",
      "PCA Explained Variance: [0.56120402]\n",
      "PCA Explained Variance Sum: 0.5612040219602985\n"
     ]
    }
   ],
   "source": [
    "# Data Preprocessing\n",
    "# 2 < scale_pv < 4\n",
    "data = data[(data['scale_pv'] > 2) & (data['scale_pv'] < 4)]\n",
    "\n",
    "# PCA 분석\n",
    "from sklearn.decomposition import PCA\n",
    "from sklearn.preprocessing import StandardScaler\n",
    "\n",
    "# PCA 분석을 위한 데이터 준비\n",
    "X = data.drop(['scale_pv', 'k_rpm_pv'], axis=1)\n",
    "\n",
    "# 표준화\n",
    "scaler = StandardScaler()\n",
    "X = scaler.fit_transform(X)\n",
    "\n",
    "# PCA 분석\n",
    "pca = PCA(n_components=1)\n",
    "pca.fit(X)\n",
    "X_pca = pca.transform(X)\n",
    "\n",
    "# PCA 결과\n",
    "print('PCA Component Shape:', X_pca.shape)\n",
    "print('PCA Component:', pca.components_)\n",
    "print('PCA Explained Variance:', pca.explained_variance_ratio_)\n",
    "print('PCA Explained Variance Sum:', sum(pca.explained_variance_ratio_))\n"
   ]
  },
  {
   "cell_type": "code",
   "execution_count": 3,
   "metadata": {},
   "outputs": [
    {
     "name": "stdout",
     "output_type": "stream",
     "text": [
      "<class 'pandas.core.frame.DataFrame'>\n",
      "Index: 36720 entries, 0 to 200107\n",
      "Data columns (total 6 columns):\n",
      " #   Column     Non-Null Count  Dtype  \n",
      "---  ------     --------------  -----  \n",
      " 0   c_temp_pv  36720 non-null  float64\n",
      " 1   k_rpm_pv   36720 non-null  int64  \n",
      " 2   n_temp_pv  36720 non-null  float64\n",
      " 3   scale_pv   36720 non-null  float64\n",
      " 4   s_temp_pv  36720 non-null  float64\n",
      " 5   PCA        36720 non-null  float64\n",
      "dtypes: float64(5), int64(1)\n",
      "memory usage: 2.0 MB\n"
     ]
    }
   ],
   "source": [
    "# PCA 결과를 데이터프레임에 추가\n",
    "data['PCA'] = X_pca\n",
    "data.info()"
   ]
  },
  {
   "cell_type": "code",
   "execution_count": 12,
   "metadata": {},
   "outputs": [
    {
     "name": "stdout",
     "output_type": "stream",
     "text": [
      "Random Forest without PCA\n",
      "MAE: 0.020739688478127995\n",
      "MAPE: 0.6832850969599515\n",
      "R2: 0.4061375618241577\n"
     ]
    }
   ],
   "source": [
    "# Random Forest without PCA\n",
    "from sklearn.ensemble import RandomForestRegressor\n",
    "from sklearn.model_selection import train_test_split\n",
    "from sklearn.metrics import mean_absolute_error, mean_absolute_percentage_error, r2_score\n",
    "\n",
    "X = data.drop(['scale_pv', 'PCA'], axis=1)\n",
    "y = data['scale_pv']\n",
    "\n",
    "X_train, X_test, y_train, y_test = train_test_split(X, y, test_size=0.2, random_state=42)\n",
    "\n",
    "rf = RandomForestRegressor(n_estimators=100, random_state=42)\n",
    "rf.fit(X_train, y_train)\n",
    "y_pred = rf.predict(X_test)\n",
    "\n",
    "print('Random Forest without PCA')\n",
    "print('MAE:', mean_absolute_error(y_test, y_pred))\n",
    "print('MAPE:', mean_absolute_percentage_error(y_test, y_pred)*100)\n",
    "print('R2:', r2_score(y_test, y_pred))\n"
   ]
  },
  {
   "cell_type": "code",
   "execution_count": 10,
   "metadata": {},
   "outputs": [
    {
     "name": "stdout",
     "output_type": "stream",
     "text": [
      "MAE: 0.027692902530646185\n",
      "MAPE: 0.9131137571869419\n",
      "R2: -0.017669738516535638\n"
     ]
    }
   ],
   "source": [
    "# Random Forest 모델 학습\n",
    "from sklearn.ensemble import RandomForestRegressor\n",
    "from sklearn.model_selection import train_test_split\n",
    "from sklearn.metrics import mean_absolute_error, mean_absolute_percentage_error, r2_score\n",
    "\n",
    "# feature : PCA, k_rpm_pv\n",
    "# target : scale_pv\n",
    "X = data[['PCA', 'k_rpm_pv']]\n",
    "y = data['scale_pv']\n",
    "\n",
    "X_train, X_test, y_train, y_test = train_test_split(X, y, test_size=0.2, random_state=42)\n",
    "\n",
    "model = RandomForestRegressor(n_estimators=100, random_state=42)    # 200개일때가 더 크다\n",
    "model.fit(X_train, y_train)\n",
    "\n",
    "y_pred = model.predict(X_test)\n",
    "\n",
    "print('MAE:', mean_absolute_error(y_test, y_pred))\n",
    "print('MAPE:', mean_absolute_percentage_error(y_test, y_pred)*100)\n",
    "print('R2:', r2_score(y_test, y_pred))"
   ]
  },
  {
   "cell_type": "code",
   "execution_count": null,
   "metadata": {},
   "outputs": [],
   "source": [
    "# n_estimators=100일때와 200일때랑 비슷하다\n",
    "# PCA를 사용하면 더 성능이 떨어진다... 잠정 보류"
   ]
  },
  {
   "cell_type": "code",
   "execution_count": null,
   "metadata": {},
   "outputs": [],
   "source": []
  }
 ],
 "metadata": {
  "kernelspec": {
   "display_name": "Python 3",
   "language": "python",
   "name": "python3"
  },
  "language_info": {
   "codemirror_mode": {
    "name": "ipython",
    "version": 3
   },
   "file_extension": ".py",
   "mimetype": "text/x-python",
   "name": "python",
   "nbconvert_exporter": "python",
   "pygments_lexer": "ipython3",
   "version": "3.11.8"
  }
 },
 "nbformat": 4,
 "nbformat_minor": 2
}
