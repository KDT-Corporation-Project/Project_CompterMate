{
 "cells": [
  {
   "cell_type": "markdown",
   "metadata": {},
   "source": [
    "### 승민님 분석 정리하기"
   ]
  },
  {
   "cell_type": "code",
   "execution_count": 21,
   "metadata": {},
   "outputs": [
    {
     "data": {
      "text/html": [
       "<div>\n",
       "<style scoped>\n",
       "    .dataframe tbody tr th:only-of-type {\n",
       "        vertical-align: middle;\n",
       "    }\n",
       "\n",
       "    .dataframe tbody tr th {\n",
       "        vertical-align: top;\n",
       "    }\n",
       "\n",
       "    .dataframe thead th {\n",
       "        text-align: right;\n",
       "    }\n",
       "</style>\n",
       "<table border=\"1\" class=\"dataframe\">\n",
       "  <thead>\n",
       "    <tr style=\"text-align: right;\">\n",
       "      <th></th>\n",
       "      <th>time</th>\n",
       "      <th>E_scr_pv</th>\n",
       "      <th>E_scr_sv</th>\n",
       "      <th>c_temp_pv</th>\n",
       "      <th>c_temp_sv</th>\n",
       "      <th>k_rpm_pv</th>\n",
       "      <th>k_rpm_sv</th>\n",
       "      <th>n_temp_pv</th>\n",
       "      <th>n_temp_sv</th>\n",
       "      <th>scale_pv</th>\n",
       "      <th>s_temp_pv</th>\n",
       "      <th>s_temp_sv</th>\n",
       "      <th>Unnamed: 12</th>\n",
       "    </tr>\n",
       "  </thead>\n",
       "  <tbody>\n",
       "    <tr>\n",
       "      <th>235408</th>\n",
       "      <td>2023-10-16T09:34:12.837701Z</td>\n",
       "      <td>8</td>\n",
       "      <td>8</td>\n",
       "      <td>69.8</td>\n",
       "      <td>70</td>\n",
       "      <td>191</td>\n",
       "      <td>1910</td>\n",
       "      <td>67.5</td>\n",
       "      <td>70</td>\n",
       "      <td>0.0</td>\n",
       "      <td>67.0</td>\n",
       "      <td>70</td>\n",
       "      <td>0.0</td>\n",
       "    </tr>\n",
       "    <tr>\n",
       "      <th>235409</th>\n",
       "      <td>2023-10-16T09:34:13.915681Z</td>\n",
       "      <td>8</td>\n",
       "      <td>8</td>\n",
       "      <td>69.7</td>\n",
       "      <td>70</td>\n",
       "      <td>191</td>\n",
       "      <td>1910</td>\n",
       "      <td>67.4</td>\n",
       "      <td>70</td>\n",
       "      <td>0.0</td>\n",
       "      <td>66.8</td>\n",
       "      <td>70</td>\n",
       "      <td>0.0</td>\n",
       "    </tr>\n",
       "    <tr>\n",
       "      <th>235410</th>\n",
       "      <td>2023-10-16T09:34:14.978068Z</td>\n",
       "      <td>8</td>\n",
       "      <td>8</td>\n",
       "      <td>69.7</td>\n",
       "      <td>70</td>\n",
       "      <td>191</td>\n",
       "      <td>1910</td>\n",
       "      <td>67.3</td>\n",
       "      <td>70</td>\n",
       "      <td>0.0</td>\n",
       "      <td>66.7</td>\n",
       "      <td>70</td>\n",
       "      <td>0.0</td>\n",
       "    </tr>\n",
       "    <tr>\n",
       "      <th>235411</th>\n",
       "      <td>2023-10-16T09:34:16.040468Z</td>\n",
       "      <td>8</td>\n",
       "      <td>8</td>\n",
       "      <td>69.8</td>\n",
       "      <td>70</td>\n",
       "      <td>191</td>\n",
       "      <td>1910</td>\n",
       "      <td>67.2</td>\n",
       "      <td>70</td>\n",
       "      <td>0.0</td>\n",
       "      <td>66.6</td>\n",
       "      <td>70</td>\n",
       "      <td>0.0</td>\n",
       "    </tr>\n",
       "    <tr>\n",
       "      <th>235412</th>\n",
       "      <td>2023-10-16T09:34:17.087220Z</td>\n",
       "      <td>8</td>\n",
       "      <td>8</td>\n",
       "      <td>69.8</td>\n",
       "      <td>70</td>\n",
       "      <td>0</td>\n",
       "      <td>1910</td>\n",
       "      <td>67.3</td>\n",
       "      <td>70</td>\n",
       "      <td>0.0</td>\n",
       "      <td>66.6</td>\n",
       "      <td>70</td>\n",
       "      <td>NaN</td>\n",
       "    </tr>\n",
       "  </tbody>\n",
       "</table>\n",
       "</div>"
      ],
      "text/plain": [
       "                               time  E_scr_pv  E_scr_sv  c_temp_pv  c_temp_sv  \\\n",
       "235408  2023-10-16T09:34:12.837701Z         8         8       69.8         70   \n",
       "235409  2023-10-16T09:34:13.915681Z         8         8       69.7         70   \n",
       "235410  2023-10-16T09:34:14.978068Z         8         8       69.7         70   \n",
       "235411  2023-10-16T09:34:16.040468Z         8         8       69.8         70   \n",
       "235412  2023-10-16T09:34:17.087220Z         8         8       69.8         70   \n",
       "\n",
       "        k_rpm_pv  k_rpm_sv  n_temp_pv  n_temp_sv  scale_pv  s_temp_pv  \\\n",
       "235408       191      1910       67.5         70       0.0       67.0   \n",
       "235409       191      1910       67.4         70       0.0       66.8   \n",
       "235410       191      1910       67.3         70       0.0       66.7   \n",
       "235411       191      1910       67.2         70       0.0       66.6   \n",
       "235412         0      1910       67.3         70       0.0       66.6   \n",
       "\n",
       "        s_temp_sv  Unnamed: 12  \n",
       "235408         70          0.0  \n",
       "235409         70          0.0  \n",
       "235410         70          0.0  \n",
       "235411         70          0.0  \n",
       "235412         70          NaN  "
      ]
     },
     "execution_count": 21,
     "metadata": {},
     "output_type": "execute_result"
    }
   ],
   "source": [
    "# 1. Load the data\n",
    "import pandas as pd\n",
    "\n",
    "data = pd.read_csv('../DATA/raw_2023051820231018_경대기업맞춤형.csv')\n",
    "data.tail()"
   ]
  },
  {
   "cell_type": "code",
   "execution_count": 22,
   "metadata": {},
   "outputs": [],
   "source": [
    "# 2. Preprocess the data\n",
    "data.drop('Unnamed: 12', axis=1, inplace=True)\n",
    "data['time'] = pd.to_datetime(data['time']).dt.tz_localize(None)\n",
    "\n",
    "# 2.1 Split the data\n",
    "oct_1 = pd.Timestamp('2023-10-01')\n",
    "before_data = data[data['time'] < oct_1]\n",
    "after_data = data[data['time'] >= oct_1]\n",
    "mydata = before_data.drop('time', axis=1)\n",
    "\n",
    "# 무의미 sv 제거\n",
    "mydata.drop(['s_temp_sv', 'c_temp_sv'], axis=1, inplace=True)\n",
    "\n",
    "# E_scr_sv가 8인 데이터만 남기기\n",
    "mydata = mydata[mydata['E_scr_sv']==8]\n",
    "\n",
    "\n",
    "# E_scr_sv, n_temp_sv 제거\n",
    "mydata.drop(['E_scr_sv', 'n_temp_sv'], axis=1, inplace=True)\n",
    "\n",
    "# scale_pv < 4\n",
    "mydata2 = mydata[mydata['scale_pv'] < 4]\n",
    "\n",
    "# c_temp_pv >= 68\n",
    "# - 65.1 일때 scale_pv는 모두 0\n",
    "mydata2 = mydata2[mydata2['c_temp_pv'] >= 68]\n",
    "\n",
    "# k_rpm_sv, E_scr_sv 제거 \n",
    "mydata2.drop('k_rpm_sv', axis=1, inplace=True)\n",
    "mydata2.drop('E_scr_pv', axis=1, inplace=True)\n",
    "\n",
    "# filtering 분석 : k_rpm_pv < 50 확인\n",
    "# - 결과 : 2.5이상이 22개, 해당 구간 삭제\n",
    "mydata2 = mydata2[mydata2['k_rpm_pv'] >= 50]\n",
    "\n",
    "# scale_pv : 0 초과 2.5 미만 삭제\n",
    "# - .unique()보단 hist나 box로 보는 게 이상치 판단에 도움될 듯!\n",
    "# - 결과 : 0 초과 2.5 미만인 데이터 삭제\n",
    "mydata2 = mydata2[(mydata2['scale_pv'] <= 0) | (mydata2['scale_pv'] >= 2.5)]\n",
    "\n",
    "# 이상치로 판단해 k_rpm_pv < 162.5 제거\n",
    "mydata2 = mydata2[mydata2['k_rpm_pv'] >= 162.5]\n",
    "\n",
    "# save the data\n",
    "mydata2.to_csv('../DATA/before_data.csv', index=False)"
   ]
  },
  {
   "cell_type": "markdown",
   "metadata": {},
   "source": [
    "- 확인할 부분에 filter 변수를 만들어 그래프 확인하는 방법은 정말 좋습니다\n",
    "- 두 가지 조건을 &로 묶어서 필터링하기도 했네요\n",
    "- "
   ]
  },
  {
   "cell_type": "code",
   "execution_count": 23,
   "metadata": {},
   "outputs": [],
   "source": [
    "# 3. KNN 증강\n",
    "from sklearn.preprocessing import StandardScaler\n",
    "from sklearn.neighbors import KNeighborsRegressor\n",
    "\n",
    "data = pd.read_csv('../DATA/before_data.csv')\n",
    "\n",
    "non_zero_data = data[data['scale_pv'] != 0]\n",
    "zero_data = data[data['scale_pv'] == 0]\n",
    "\n",
    "features = non_zero_data.drop(columns=['scale_pv'])\n",
    "target = non_zero_data['scale_pv']\n",
    "\n",
    "scaler = StandardScaler()\n",
    "scaled_features = scaler.fit_transform(features)\n",
    "scaled_zero_features = scaler.transform(zero_data.drop(columns=['scale_pv']))\n",
    "\n",
    "knn = KNeighborsRegressor(n_neighbors=10)\n",
    "knn.fit(scaled_features, target)\n",
    "\n",
    "predicted_scale_pv = knn.predict(scaled_zero_features)\n",
    "\n",
    "zero_data.loc[:, 'scale_pv'] = predicted_scale_pv\n",
    "\n",
    "augmented_data = pd.concat([non_zero_data, zero_data]).sort_index()\n",
    "augmented_data = augmented_data.loc[data.index]\n",
    "\n",
    "augmented_data.drop_duplicates(inplace=True)"
   ]
  },
  {
   "cell_type": "markdown",
   "metadata": {},
   "source": [
    "4. 학습"
   ]
  },
  {
   "cell_type": "code",
   "execution_count": 24,
   "metadata": {},
   "outputs": [],
   "source": [
    "from sklearn.model_selection import train_test_split\n",
    "from sklearn.linear_model import LinearRegression\n",
    "from sklearn.ensemble import RandomForestRegressor\n",
    "import lightgbm as lgb\n",
    "from sklearn.metrics import mean_absolute_error, mean_absolute_percentage_error"
   ]
  },
  {
   "cell_type": "code",
   "execution_count": 25,
   "metadata": {},
   "outputs": [],
   "source": [
    "X = augmented_data.drop(columns=['scale_pv'])\n",
    "y = augmented_data['scale_pv']\n",
    "\n",
    "X_train, X_test, y_train, y_test = train_test_split(X, y, test_size=0.2, random_state=42)"
   ]
  },
  {
   "cell_type": "markdown",
   "metadata": {},
   "source": [
    "- 스케일링 & 역스케일링?"
   ]
  },
  {
   "cell_type": "code",
   "execution_count": 26,
   "metadata": {},
   "outputs": [
    {
     "data": {
      "text/html": [
       "<style>#sk-container-id-2 {color: black;}#sk-container-id-2 pre{padding: 0;}#sk-container-id-2 div.sk-toggleable {background-color: white;}#sk-container-id-2 label.sk-toggleable__label {cursor: pointer;display: block;width: 100%;margin-bottom: 0;padding: 0.3em;box-sizing: border-box;text-align: center;}#sk-container-id-2 label.sk-toggleable__label-arrow:before {content: \"▸\";float: left;margin-right: 0.25em;color: #696969;}#sk-container-id-2 label.sk-toggleable__label-arrow:hover:before {color: black;}#sk-container-id-2 div.sk-estimator:hover label.sk-toggleable__label-arrow:before {color: black;}#sk-container-id-2 div.sk-toggleable__content {max-height: 0;max-width: 0;overflow: hidden;text-align: left;background-color: #f0f8ff;}#sk-container-id-2 div.sk-toggleable__content pre {margin: 0.2em;color: black;border-radius: 0.25em;background-color: #f0f8ff;}#sk-container-id-2 input.sk-toggleable__control:checked~div.sk-toggleable__content {max-height: 200px;max-width: 100%;overflow: auto;}#sk-container-id-2 input.sk-toggleable__control:checked~label.sk-toggleable__label-arrow:before {content: \"▾\";}#sk-container-id-2 div.sk-estimator input.sk-toggleable__control:checked~label.sk-toggleable__label {background-color: #d4ebff;}#sk-container-id-2 div.sk-label input.sk-toggleable__control:checked~label.sk-toggleable__label {background-color: #d4ebff;}#sk-container-id-2 input.sk-hidden--visually {border: 0;clip: rect(1px 1px 1px 1px);clip: rect(1px, 1px, 1px, 1px);height: 1px;margin: -1px;overflow: hidden;padding: 0;position: absolute;width: 1px;}#sk-container-id-2 div.sk-estimator {font-family: monospace;background-color: #f0f8ff;border: 1px dotted black;border-radius: 0.25em;box-sizing: border-box;margin-bottom: 0.5em;}#sk-container-id-2 div.sk-estimator:hover {background-color: #d4ebff;}#sk-container-id-2 div.sk-parallel-item::after {content: \"\";width: 100%;border-bottom: 1px solid gray;flex-grow: 1;}#sk-container-id-2 div.sk-label:hover label.sk-toggleable__label {background-color: #d4ebff;}#sk-container-id-2 div.sk-serial::before {content: \"\";position: absolute;border-left: 1px solid gray;box-sizing: border-box;top: 0;bottom: 0;left: 50%;z-index: 0;}#sk-container-id-2 div.sk-serial {display: flex;flex-direction: column;align-items: center;background-color: white;padding-right: 0.2em;padding-left: 0.2em;position: relative;}#sk-container-id-2 div.sk-item {position: relative;z-index: 1;}#sk-container-id-2 div.sk-parallel {display: flex;align-items: stretch;justify-content: center;background-color: white;position: relative;}#sk-container-id-2 div.sk-item::before, #sk-container-id-2 div.sk-parallel-item::before {content: \"\";position: absolute;border-left: 1px solid gray;box-sizing: border-box;top: 0;bottom: 0;left: 50%;z-index: -1;}#sk-container-id-2 div.sk-parallel-item {display: flex;flex-direction: column;z-index: 1;position: relative;background-color: white;}#sk-container-id-2 div.sk-parallel-item:first-child::after {align-self: flex-end;width: 50%;}#sk-container-id-2 div.sk-parallel-item:last-child::after {align-self: flex-start;width: 50%;}#sk-container-id-2 div.sk-parallel-item:only-child::after {width: 0;}#sk-container-id-2 div.sk-dashed-wrapped {border: 1px dashed gray;margin: 0 0.4em 0.5em 0.4em;box-sizing: border-box;padding-bottom: 0.4em;background-color: white;}#sk-container-id-2 div.sk-label label {font-family: monospace;font-weight: bold;display: inline-block;line-height: 1.2em;}#sk-container-id-2 div.sk-label-container {text-align: center;}#sk-container-id-2 div.sk-container {/* jupyter's `normalize.less` sets `[hidden] { display: none; }` but bootstrap.min.css set `[hidden] { display: none !important; }` so we also need the `!important` here to be able to override the default hidden behavior on the sphinx rendered scikit-learn.org. See: https://github.com/scikit-learn/scikit-learn/issues/21755 */display: inline-block !important;position: relative;}#sk-container-id-2 div.sk-text-repr-fallback {display: none;}</style><div id=\"sk-container-id-2\" class=\"sk-top-container\"><div class=\"sk-text-repr-fallback\"><pre>StandardScaler()</pre><b>In a Jupyter environment, please rerun this cell to show the HTML representation or trust the notebook. <br />On GitHub, the HTML representation is unable to render, please try loading this page with nbviewer.org.</b></div><div class=\"sk-container\" hidden><div class=\"sk-item\"><div class=\"sk-estimator sk-toggleable\"><input class=\"sk-toggleable__control sk-hidden--visually\" id=\"sk-estimator-id-2\" type=\"checkbox\" checked><label for=\"sk-estimator-id-2\" class=\"sk-toggleable__label sk-toggleable__label-arrow\">StandardScaler</label><div class=\"sk-toggleable__content\"><pre>StandardScaler()</pre></div></div></div></div></div>"
      ],
      "text/plain": [
       "StandardScaler()"
      ]
     },
     "execution_count": 26,
     "metadata": {},
     "output_type": "execute_result"
    }
   ],
   "source": [
    "# 모델 학습 및 평가 함수\n",
    "def train_and_evaluate_model(model, X_train, X_test, y_train, y_test, scaler):\n",
    "    model.fit(X_train, y_train)\n",
    "    y_train_pred_scaled = model.predict(X_train)\n",
    "    y_test_pred_scaled = model.predict(X_test)\n",
    "    \n",
    "    # 역스케일링\n",
    "    y_train_pred = scaler.inverse_transform(y_train_pred_scaled.reshape(-1, 1))\n",
    "    y_test_pred = scaler.inverse_transform(y_test_pred_scaled.reshape(-1, 1))\n",
    "    y_train_original = scaler.inverse_transform(y_train.values.reshape(-1, 1))\n",
    "    y_test_original = scaler.inverse_transform(y_test.values.reshape(-1, 1))\n",
    "    \n",
    "    train_mae = mean_absolute_error(y_train_original, y_train_pred)\n",
    "    test_mae = mean_absolute_error(y_test_original, y_test_pred)\n",
    "    train_mape = mean_absolute_percentage_error(y_train_original, y_train_pred)\n",
    "    test_mape = mean_absolute_percentage_error(y_test_original, y_test_pred)\n",
    "    \n",
    "    return train_mae, test_mae, train_mape, test_mape, y_train_pred, y_test_pred\n",
    "\n",
    "# 역스케일링\n",
    "target_scaler = StandardScaler()\n",
    "target_scaler.fit(target.values.reshape(-1, 1))"
   ]
  },
  {
   "cell_type": "code",
   "execution_count": 27,
   "metadata": {},
   "outputs": [
    {
     "name": "stdout",
     "output_type": "stream",
     "text": [
      "[LightGBM] [Info] Auto-choosing col-wise multi-threading, the overhead of testing was 0.001378 seconds.\n",
      "You can set `force_col_wise=true` to remove the overhead.\n",
      "[LightGBM] [Info] Total Bins 190\n",
      "[LightGBM] [Info] Number of data points in the train set: 103004, number of used features: 4\n",
      "[LightGBM] [Info] Start training from score 3.042988\n",
      "Linear Regression - Train MAE: 0.0005966546560440538, Train MAPE: 0.018930305735118908\n",
      "Linear Regression - Test MAE: 0.0005914186866800781, Test MAPE: 0.01876376559908757\n",
      "\n",
      "Random Forest - Train MAE: 0.00017786994794854617, Train MAPE: 0.005643357350770295\n",
      "Random Forest - Test MAE: 0.00037988455880022423, Test MAPE: 0.012052489177245135\n",
      "\n",
      "LightGBM - Train MAE: 0.0005026233173996973, Train MAPE: 0.015946624900180676\n",
      "LightGBM - Test MAE: 0.0005059680618125167, Test MAPE: 0.016052509584770225\n"
     ]
    }
   ],
   "source": [
    "# Multiple Regression\n",
    "lr_model = LinearRegression()\n",
    "lr_train_mae, lr_test_mae, lr_train_mape, lr_test_mape, lr_y_train_pred, lr_y_test_pred = train_and_evaluate_model(lr_model, X_train, X_test, y_train, y_test, target_scaler)\n",
    "\n",
    "# Random Forest\n",
    "rf_model = RandomForestRegressor(n_estimators=100, random_state=42, n_jobs=-1)\n",
    "rf_train_mae, rf_test_mae, rf_train_mape, rf_test_mape, rf_y_train_pred, rf_y_test_pred = train_and_evaluate_model(rf_model, X_train, X_test, y_train, y_test, target_scaler)\n",
    "\n",
    "# LightGBM\n",
    "lgb_model = lgb.LGBMRegressor(n_estimators=100, random_state=42)\n",
    "lgb_train_mae, lgb_test_mae, lgb_train_mape, lgb_test_mape, lgb_y_train_pred, lgb_y_test_pred = train_and_evaluate_model(lgb_model, X_train, X_test, y_train, y_test, target_scaler)\n",
    "\n",
    "print(f\"Linear Regression - Train MAE: {lr_train_mae}, Train MAPE: {lr_train_mape*100}\")\n",
    "print(f\"Linear Regression - Test MAE: {lr_test_mae}, Test MAPE: {lr_test_mape*100}\")\n",
    "print()\n",
    "print(f\"Random Forest - Train MAE: {rf_train_mae}, Train MAPE: {rf_train_mape*100}\")\n",
    "print(f\"Random Forest - Test MAE: {rf_test_mae}, Test MAPE: {rf_test_mape*100}\")\n",
    "print()\n",
    "print(f\"LightGBM - Train MAE: {lgb_train_mae}, Train MAPE: {lgb_train_mape*100}\")\n",
    "print(f\"LightGBM - Test MAE: {lgb_test_mae}, Test MAPE: {lgb_test_mape*100}\")"
   ]
  },
  {
   "cell_type": "code",
   "execution_count": null,
   "metadata": {},
   "outputs": [],
   "source": []
  },
  {
   "cell_type": "markdown",
   "metadata": {},
   "source": [
    "5. 테스트 : 10월 데이터"
   ]
  },
  {
   "cell_type": "markdown",
   "metadata": {},
   "source": [
    "- 전처리"
   ]
  },
  {
   "cell_type": "code",
   "execution_count": 29,
   "metadata": {},
   "outputs": [],
   "source": [
    "test_data = pd.read_csv('../DATA/raw_2023051820231018_경대기업맞춤형.csv')\n",
    "test_data.drop('Unnamed: 12', axis=1, inplace=True)\n",
    "\n",
    "# 10월 1일 이후 데이터\n",
    "oct_1 = pd.Timestamp('2023-10-01')\n",
    "test_data['time'] = pd.to_datetime(test_data['time']).dt.tz_localize(None)\n",
    "test_data = test_data[test_data['time'] >= oct_1]\n",
    "\n",
    "# 2 < scale_pv < 4\n",
    "test_data = test_data[(test_data['scale_pv'] > 2) & (test_data['scale_pv'] < 4)]\n"
   ]
  },
  {
   "cell_type": "markdown",
   "metadata": {},
   "source": [
    "- 예측"
   ]
  },
  {
   "cell_type": "code",
   "execution_count": 30,
   "metadata": {},
   "outputs": [
    {
     "name": "stdout",
     "output_type": "stream",
     "text": [
      "October - MAE: 0.10530561946370168, MAPE: 3.465242154006414\n"
     ]
    }
   ],
   "source": [
    "\n",
    "# Predict without KNN\n",
    "test_data = test_data.drop(columns=['time', 's_temp_sv', 'c_temp_sv', 'E_scr_sv', 'n_temp_sv', 'k_rpm_sv', 'E_scr_pv'])\n",
    "X_oct = test_data.drop(columns=['scale_pv'])\n",
    "y_oct = test_data['scale_pv']\n",
    "\n",
    "# rf_model\n",
    "y_oct_pred_scaled = rf_model.predict(X_oct)\n",
    "y_oct_pred = target_scaler.inverse_transform(y_oct_pred_scaled.reshape(-1, 1))\n",
    "\n",
    "oct_mae = mean_absolute_error(y_oct, y_oct_pred)\n",
    "oct_mape = mean_absolute_percentage_error(y_oct, y_oct_pred)\n",
    "\n",
    "print(f\"October - MAE: {oct_mae}, MAPE: {oct_mape*100}\")"
   ]
  },
  {
   "cell_type": "code",
   "execution_count": null,
   "metadata": {},
   "outputs": [],
   "source": []
  },
  {
   "cell_type": "code",
   "execution_count": null,
   "metadata": {},
   "outputs": [],
   "source": []
  },
  {
   "cell_type": "code",
   "execution_count": null,
   "metadata": {},
   "outputs": [],
   "source": []
  },
  {
   "cell_type": "code",
   "execution_count": null,
   "metadata": {},
   "outputs": [],
   "source": []
  }
 ],
 "metadata": {
  "kernelspec": {
   "display_name": "Python 3",
   "language": "python",
   "name": "python3"
  },
  "language_info": {
   "codemirror_mode": {
    "name": "ipython",
    "version": 3
   },
   "file_extension": ".py",
   "mimetype": "text/x-python",
   "name": "python",
   "nbconvert_exporter": "python",
   "pygments_lexer": "ipython3",
   "version": "3.8.18"
  }
 },
 "nbformat": 4,
 "nbformat_minor": 2
}
